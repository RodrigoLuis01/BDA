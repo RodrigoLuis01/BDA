{
 "cells": [
  {
   "cell_type": "code",
   "execution_count": 0,
   "metadata": {
    "application/vnd.databricks.v1+cell": {
     "cellMetadata": {
      "byteLimit": 2048000,
      "rowLimit": 10000
     },
     "inputWidgets": {},
     "nuid": "c171c3c6-6693-4dcf-a959-78183e21786e",
     "showTitle": false,
     "tableResultSettingsMap": {},
     "title": ""
    }
   },
   "outputs": [],
   "source": [
    "from pyspark.sql.functions import from_json, col\n",
    "from pyspark.sql.types import (StructType, StructField, StringType, DoubleType,\n",
    "                               IntegerType, BooleanType, TimestampType)\n",
    "\n",
    "# Schema that mirrors your JSON\n",
    "schema = StructType([\n",
    "    StructField(\"transaction_id\", StringType(), True),\n",
    "    StructField(\"timestamp\", StringType(), True),\n",
    "    StructField(\"sender_account\", StringType(), True),\n",
    "    StructField(\"receiver_account\", StringType(), True),\n",
    "    StructField(\"amount\", StringType(), True),\n",
    "    StructField(\"transaction_type\", StringType(), True),\n",
    "    StructField(\"merchant_category\", StringType(), True),\n",
    "    StructField(\"location\", StringType(), True),\n",
    "    StructField(\"device_used\", StringType(), True),\n",
    "    StructField(\"is_fraud\", StringType(), True),\n",
    "    StructField(\"fraud_type\", StringType(), True),\n",
    "    StructField(\"time_since_last_transaction\", StringType(), True),\n",
    "    StructField(\"spending_deviation_score\", StringType(), True),\n",
    "    StructField(\"velocity_score\", StringType(), True),\n",
    "    StructField(\"geo_anomaly_score\", StringType(), True),\n",
    "    StructField(\"payment_channel\", StringType(), True),\n",
    "    StructField(\"ip_address\", StringType(), True),\n",
    "    StructField(\"device_hash\", StringType(), True)\n",
    "])\n",
    "\n",
    "spark.conf.set(\"spark.sql.streaming.checkpointLocation\", \"/tmp/ckpt\")\n",
    "\n",
    "\n"
   ]
  },
  {
   "cell_type": "code",
   "execution_count": 0,
   "metadata": {
    "application/vnd.databricks.v1+cell": {
     "cellMetadata": {
      "byteLimit": 2048000,
      "rowLimit": 10000
     },
     "inputWidgets": {},
     "nuid": "883df5e0-cdce-40f3-9537-c20a4ffe82f3",
     "showTitle": false,
     "tableResultSettingsMap": {},
     "title": ""
    }
   },
   "outputs": [],
   "source": [
    "from pyspark.sql.functions import col, to_timestamp\n",
    "\n",
    "casted_df = parsed_df \\\n",
    "    .withColumn(\"timestamp\", to_timestamp(\"timestamp\")) \\\n",
    "    .withColumn(\"amount\", col(\"amount\").cast(\"double\")) \\\n",
    "    .withColumn(\"time_since_last_transaction\", col(\"time_since_last_transaction\").cast(\"double\")) \\\n",
    "    .withColumn(\"spending_deviation_score\", col(\"spending_deviation_score\").cast(\"double\")) \\\n",
    "    .withColumn(\"velocity_score\", col(\"velocity_score\").cast(\"double\")) \\\n",
    "    .withColumn(\"geo_anomaly_score\", col(\"geo_anomaly_score\").cast(\"double\")) \\\n",
    "    .withColumn(\"is_fraud\", col(\"is_fraud\").cast(\"boolean\"))\n"
   ]
  },
  {
   "cell_type": "code",
   "execution_count": 0,
   "metadata": {
    "application/vnd.databricks.v1+cell": {
     "cellMetadata": {
      "byteLimit": 2048000,
      "rowLimit": 10000
     },
     "inputWidgets": {},
     "nuid": "f88d99d9-2246-445a-90c6-4640cdc94867",
     "showTitle": false,
     "tableResultSettingsMap": {},
     "title": ""
    }
   },
   "outputs": [],
   "source": [
    "# Read from Kafka\n",
    "raw_df = (spark.readStream\n",
    "    .format(\"kafka\")\n",
    "    .option(\"kafka.bootstrap.servers\", \"kafkainterface.servebeer.com:9092\")\n",
    "    .option(\"subscribe\", \"streaming\")\n",
    "    .load())"
   ]
  },
  {
   "cell_type": "code",
   "execution_count": 0,
   "metadata": {
    "application/vnd.databricks.v1+cell": {
     "cellMetadata": {
      "byteLimit": 2048000,
      "rowLimit": 10000
     },
     "inputWidgets": {},
     "nuid": "a84b9a42-7e5a-40b2-973c-d10be01b2f41",
     "showTitle": false,
     "tableResultSettingsMap": {},
     "title": ""
    }
   },
   "outputs": [],
   "source": [
    "# Parse JSON → struct → columns\n",
    "parsed_df = (raw_df\n",
    "    .select(from_json(col(\"value\").cast(\"string\"), schema).alias(\"data\"))\n",
    "    .select(\"data.*\"))          # flatten so each key is a top-level column\n"
   ]
  },
  {
   "cell_type": "code",
   "execution_count": 0,
   "metadata": {
    "application/vnd.databricks.v1+cell": {
     "cellMetadata": {
      "byteLimit": 2048000,
      "rowLimit": 10000
     },
     "inputWidgets": {},
     "nuid": "a1a20f94-ad94-44d2-8c1c-09c776221475",
     "showTitle": false,
     "tableResultSettingsMap": {},
     "title": ""
    }
   },
   "outputs": [
    {
     "output_type": "stream",
     "name": "stdout",
     "output_type": "stream",
     "text": [
      "Out[49]: True"
     ]
    }
   ],
   "source": [
    "dbutils.fs.rm(\"dbfs:/tmp/ckpt/parsed_data\", recurse=True)"
   ]
  },
  {
   "cell_type": "code",
   "execution_count": 0,
   "metadata": {
    "application/vnd.databricks.v1+cell": {
     "cellMetadata": {
      "byteLimit": 2048000,
      "rowLimit": 10000
     },
     "inputWidgets": {},
     "nuid": "8180edd5-7099-4fce-b071-31ff9114fa51",
     "showTitle": false,
     "tableResultSettingsMap": {},
     "title": ""
    }
   },
   "outputs": [],
   "source": [
    "# Stream to console (tabular like CSV)\n",
    "query = parsed_df.writeStream \\\n",
    "    .format(\"console\") \\\n",
    "    .queryName(\"parsed_data\") \\\n",
    "    .outputMode(\"append\") \\\n",
    "    .start()\n",
    "\n"
   ]
  },
  {
   "cell_type": "code",
   "execution_count": 0,
   "metadata": {
    "application/vnd.databricks.v1+cell": {
     "cellMetadata": {
      "byteLimit": 2048000,
      "rowLimit": 10000
     },
     "inputWidgets": {},
     "nuid": "5d6c773a-fafa-4d20-9fc5-44621f25c19b",
     "showTitle": false,
     "tableResultSettingsMap": {},
     "title": ""
    }
   },
   "outputs": [],
   "source": [
    "final_df = casted_df"
   ]
  },
  {
   "cell_type": "code",
   "execution_count": 0,
   "metadata": {
    "application/vnd.databricks.v1+cell": {
     "cellMetadata": {
      "byteLimit": 2048000,
      "rowLimit": 10000
     },
     "inputWidgets": {},
     "nuid": "055fdd1b-01a7-45a8-ac50-856edc423428",
     "showTitle": false,
     "tableResultSettingsMap": {},
     "title": ""
    }
   },
   "outputs": [],
   "source": [
    "query = final_df.writeStream \\\n",
    "    .format(\"delta\") \\\n",
    "    .outputMode(\"append\") \\\n",
    "    .option(\"checkpointLocation\", \"/tmp/ckpt/final_df\") \\\n",
    "    .start(\"/mnt/datalake/final_df_output\")\n"
   ]
  },
  {
   "cell_type": "code",
   "execution_count": 0,
   "metadata": {
    "application/vnd.databricks.v1+cell": {
     "cellMetadata": {
      "byteLimit": 2048000,
      "rowLimit": 10000
     },
     "inputWidgets": {},
     "nuid": "cbe544b0-2519-4723-a779-845a0d210ebe",
     "showTitle": false,
     "tableResultSettingsMap": {},
     "title": ""
    }
   },
   "outputs": [
    {
     "output_type": "stream",
     "name": "stdout",
     "output_type": "stream",
     "text": [
      "+--------------+--------------------+--------------+----------------+-------+----------------+-----------------+---------+-----------+--------+----------+---------------------------+------------------------+--------------+-----------------+---------------+---------------+-----------+\n|transaction_id|           timestamp|sender_account|receiver_account| amount|transaction_type|merchant_category| location|device_used|is_fraud|fraud_type|time_since_last_transaction|spending_deviation_score|velocity_score|geo_anomaly_score|payment_channel|     ip_address|device_hash|\n+--------------+--------------------+--------------+----------------+-------+----------------+-----------------+---------+-----------+--------+----------+---------------------------+------------------------+--------------+-----------------+---------------+---------------+-----------+\n|       T100002|2023-05-12 11:39:...|     ACC733052|       ACC377370|2773.86|         deposit|            other|   London|        pos|   false|          |                       null|                   -1.78|          20.0|             0.89|           card|   185.98.35.23|   D4823498|\n|       T100003|2023-10-10 06:04:...|     ACC996865|       ACC344098|1666.22|         deposit|           online|   Sydney|        pos|   false|          |                       null|                    -0.6|           6.0|             0.37|  wire_transfer|  107.136.36.87|   D9961380|\n|       T100004|2023-09-24 08:09:...|     ACC584714|       ACC497887|  24.43|        transfer|        utilities|  Toronto|     mobile|   false|          |                       null|                    0.79|          13.0|             0.27|            ACH|108.161.108.255|   D7637601|\n|       T100005|2023-11-20 17:49:...|     ACC581141|       ACC249811|  58.77|        transfer|    entertainment|   Berlin|        atm|   false|          |                       null|                   -1.63|          19.0|              0.4|            UPI|  112.70.252.46|   D1790481|\n|       T100006|2023-11-11 11:15:...|     ACC757924|       ACC267753|  59.51|         payment|           travel|    Dubai|        pos|   false|          |                       null|                   -2.62|           1.0|             0.68|            UPI|  58.136.174.57|   D5924115|\n|       T100007|2023-06-09 06:32:...|     ACC103402|       ACC857168|  29.79|        transfer|    entertainment|   London|        atm|   false|          |                       null|                   -0.48|           5.0|             0.37|            ACH|   82.0.165.250|   D1326765|\n|       T100008|2023-02-11 06:57:...|     ACC972064|       ACC945964|   16.0|        transfer|        utilities| New York|        web|   false|          |                       null|                    0.99|           3.0|             0.98|           card|   64.65.243.84|   D5446912|\n|       T100009|2023-07-13 09:25:...|     ACC543692|       ACC322086| 203.05|      withdrawal|          grocery|    Dubai|        atm|   false|          |                       null|                    0.59|          17.0|             0.45|            UPI| 126.115.32.173|   D1352896|\n|       T100010|2023-08-04 00:35:...|     ACC717024|       ACC330914|1237.07|         deposit|           travel| New York|        web|   false|          |                       null|                    1.64|           3.0|             0.51|           card| 142.248.109.67|   D8930103|\n|       T100011|2023-03-31 07:39:...|     ACC946721|       ACC526833| 465.45|      withdrawal|           travel|   London|        pos|   false|          |                       null|                   -1.11|          14.0|             0.41|  wire_transfer|   27.50.31.206|   D6692553|\n|       T100012|2023-10-20 08:11:...|     ACC360735|       ACC300896|  14.18|      withdrawal|            other|    Tokyo|        pos|   false|          |                       null|                   -0.14|           3.0|             0.44|            ACH|     50.25.7.47|   D4965789|\n|       T100013|2023-03-03 07:53:...|     ACC604740|       ACC324130|  34.58|         payment|           retail|    Tokyo|        pos|   false|          |                       null|                    0.75|          13.0|             0.27|           card|232.146.216.249|   D3597059|\n|       T100014|2023-03-11 13:30:...|     ACC161324|       ACC707314|1283.35|         deposit|       restaurant| New York|     mobile|   false|          |                       null|                   -1.96|           6.0|             0.06|            UPI|    41.95.35.34|   D4946066|\n|       T100015|2023-05-29 03:04:...|     ACC358175|       ACC707040|1258.92|         deposit|           travel|    Dubai|        atm|   false|          |                       null|                   -0.04|           7.0|             0.67|  wire_transfer|160.122.135.202|   D3195773|\n|       T100016|2023-09-03 13:00:...|     ACC579434|       ACC431535|1444.64|         deposit|           retail|Singapore|     mobile|   false|          |                       null|                   -1.15|           5.0|             0.93|           card| 35.125.189.145|   D3646552|\n|       T100017|2023-06-10 15:29:...|     ACC837715|       ACC417212|1120.17|         deposit|          grocery|   London|        web|   false|          |                       null|                   -0.28|           4.0|             0.89|  wire_transfer| 79.139.144.107|   D6752576|\n|       T100018|2023-03-17 03:30:...|     ACC994343|       ACC376807|   4.49|         payment|          grocery| New York|     mobile|   false|          |                       null|                    0.14|          11.0|             0.77|            UPI| 134.82.226.218|   D1162230|\n|       T100019|2023-02-11 18:00:...|     ACC256294|       ACC672092|1433.12|         deposit|       restaurant|    Tokyo|        pos|   false|          |                       null|                   -0.26|           2.0|             0.31|            ACH| 20.183.107.127|   D2724590|\n|       T100020|2023-05-10 19:13:...|     ACC526117|       ACC750810| 413.32|      withdrawal|        utilities|    Tokyo|        web|   false|          |                       null|                    1.61|          11.0|             0.78|            UPI| 210.127.136.81|   D2813543|\n|       T100021|2023-05-20 16:03:...|     ACC593554|       ACC333238| 311.77|      withdrawal|            other|  Toronto|        atm|   false|          |                       null|                    0.25|           8.0|             0.02|            ACH| 98.204.168.142|   D2164686|\n+--------------+--------------------+--------------+----------------+-------+----------------+-----------------+---------+-----------+--------+----------+---------------------------+------------------------+--------------+-----------------+---------------+---------------+-----------+\nonly showing top 20 rows\n\n"
     ]
    }
   ],
   "source": [
    "spark.read.format(\"delta\").load(\"/mnt/datalake/final_df_output\").show()\n"
   ]
  },
  {
   "cell_type": "code",
   "execution_count": 0,
   "metadata": {
    "application/vnd.databricks.v1+cell": {
     "cellMetadata": {},
     "inputWidgets": {},
     "nuid": "84038c9c-307a-4313-ba60-bd8271c3f659",
     "showTitle": false,
     "tableResultSettingsMap": {},
     "title": ""
    }
   },
   "outputs": [],
   "source": []
  }
 ],
 "metadata": {
  "application/vnd.databricks.v1+notebook": {
   "computePreferences": null,
   "dashboards": [],
   "environmentMetadata": {
    "base_environment": "",
    "environment_version": "1"
   },
   "inputWidgetPreferences": null,
   "language": "python",
   "notebookMetadata": {
    "mostRecentlyExecutedCommandWithImplicitDF": {
     "commandId": 2957699461097583,
     "dataframes": [
      "_sqldf"
     ]
    },
    "pythonIndentUnit": 4
   },
   "notebookName": "kafka",
   "widgets": {}
  }
 },
 "nbformat": 4,
 "nbformat_minor": 0
}