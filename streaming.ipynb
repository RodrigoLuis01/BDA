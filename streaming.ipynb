{
 "cells": [
  {
   "cell_type": "code",
   "execution_count": 0,
   "metadata": {
    "application/vnd.databricks.v1+cell": {
     "cellMetadata": {
      "byteLimit": 2048000,
      "rowLimit": 10000
     },
     "inputWidgets": {},
     "nuid": "c171c3c6-6693-4dcf-a959-78183e21786e",
     "showTitle": false,
     "tableResultSettingsMap": {},
     "title": ""
    }
   },
   "outputs": [],
   "source": [
    "from pyspark.sql.functions import from_json, col\n",
    "from pyspark.sql.types import (StructType, StructField, StringType, DoubleType,\n",
    "                               IntegerType, BooleanType, TimestampType)\n",
    "\n",
    "# Schema that mirrors your JSON\n",
    "schema = StructType([\n",
    "    StructField(\"transaction_id\", StringType(), True),\n",
    "    StructField(\"timestamp\", StringType(), True),\n",
    "    StructField(\"sender_account\", StringType(), True),\n",
    "    StructField(\"receiver_account\", StringType(), True),\n",
    "    StructField(\"amount\", StringType(), True),\n",
    "    StructField(\"transaction_type\", StringType(), True),\n",
    "    StructField(\"merchant_category\", StringType(), True),\n",
    "    StructField(\"location\", StringType(), True),\n",
    "    StructField(\"device_used\", StringType(), True),\n",
    "    StructField(\"is_fraud\", StringType(), True),\n",
    "    StructField(\"fraud_type\", StringType(), True),\n",
    "    StructField(\"time_since_last_transaction\", StringType(), True),\n",
    "    StructField(\"spending_deviation_score\", StringType(), True),\n",
    "    StructField(\"velocity_score\", StringType(), True),\n",
    "    StructField(\"geo_anomaly_score\", StringType(), True),\n",
    "    StructField(\"payment_channel\", StringType(), True),\n",
    "    StructField(\"ip_address\", StringType(), True),\n",
    "    StructField(\"device_hash\", StringType(), True)\n",
    "])\n",
    "\n",
    "spark.conf.set(\"spark.sql.streaming.checkpointLocation\", \"/tmp/ckpt\")\n",
    "\n",
    "\n"
   ]
  },
  {
   "cell_type": "code",
   "execution_count": 0,
   "metadata": {
    "application/vnd.databricks.v1+cell": {
     "cellMetadata": {
      "byteLimit": 2048000,
      "rowLimit": 10000
     },
     "inputWidgets": {},
     "nuid": "f88d99d9-2246-445a-90c6-4640cdc94867",
     "showTitle": false,
     "tableResultSettingsMap": {},
     "title": ""
    }
   },
   "outputs": [],
   "source": [
    "# Read from Kafka\n",
    "raw_df = (spark.readStream\n",
    "    .format(\"kafka\")\n",
    "    .option(\"kafka.bootstrap.servers\", \"kafkainterface.servebeer.com:9092\")\n",
    "    .option(\"subscribe\", \"streaming\")\n",
    "    .load())"
   ]
  },
  {
   "cell_type": "code",
   "execution_count": 0,
   "metadata": {
    "application/vnd.databricks.v1+cell": {
     "cellMetadata": {
      "byteLimit": 2048000,
      "rowLimit": 10000
     },
     "inputWidgets": {},
     "nuid": "a84b9a42-7e5a-40b2-973c-d10be01b2f41",
     "showTitle": false,
     "tableResultSettingsMap": {},
     "title": ""
    }
   },
   "outputs": [],
   "source": [
    "# Parse JSON → struct → columns\n",
    "parsed_df = (raw_df\n",
    "    .select(from_json(col(\"value\").cast(\"string\"), schema).alias(\"data\"))\n",
    "    .select(\"data.*\"))          # flatten so each key is a top-level column\n"
   ]
  },
  {
   "cell_type": "code",
   "execution_count": 0,
   "metadata": {
    "application/vnd.databricks.v1+cell": {
     "cellMetadata": {
      "byteLimit": 2048000,
      "rowLimit": 10000
     },
     "inputWidgets": {},
     "nuid": "a1a20f94-ad94-44d2-8c1c-09c776221475",
     "showTitle": false,
     "tableResultSettingsMap": {},
     "title": ""
    }
   },
   "outputs": [
    {
     "output_type": "stream",
     "name": "stdout",
     "output_type": "stream",
     "text": [
      "Out[29]: True"
     ]
    }
   ],
   "source": [
    "dbutils.fs.rm(\"dbfs:/tmp/ckpt/parsed_data\", recurse=True)"
   ]
  },
  {
   "cell_type": "code",
   "execution_count": 0,
   "metadata": {
    "application/vnd.databricks.v1+cell": {
     "cellMetadata": {
      "byteLimit": 2048000,
      "rowLimit": 10000
     },
     "inputWidgets": {},
     "nuid": "8180edd5-7099-4fce-b071-31ff9114fa51",
     "showTitle": false,
     "tableResultSettingsMap": {},
     "title": ""
    }
   },
   "outputs": [],
   "source": [
    "# Stream to console (tabular like CSV)\n",
    "query = parsed_df.writeStream \\\n",
    "    .format(\"memory\") \\\n",
    "    .queryName(\"parsed_data\") \\\n",
    "    .outputMode(\"append\") \\\n",
    "    .start()\n",
    "\n"
   ]
  },
  {
   "cell_type": "code",
   "execution_count": 0,
   "metadata": {
    "application/vnd.databricks.v1+cell": {
     "cellMetadata": {
      "byteLimit": 2048000,
      "implicitDf": true,
      "rowLimit": 10000
     },
     "inputWidgets": {},
     "nuid": "16b3fa95-a677-4b77-8789-8ee7726876e3",
     "showTitle": false,
     "tableResultSettingsMap": {},
     "title": ""
    }
   },
   "outputs": [
    {
     "output_type": "display_data",
     "data": {
      "text/html": [
       "<style scoped>\n",
       "  .table-result-container {\n",
       "    max-height: 300px;\n",
       "    overflow: auto;\n",
       "  }\n",
       "  table, th, td {\n",
       "    border: 1px solid black;\n",
       "    border-collapse: collapse;\n",
       "  }\n",
       "  th, td {\n",
       "    padding: 5px;\n",
       "  }\n",
       "  th {\n",
       "    text-align: left;\n",
       "  }\n",
       "</style><div class='table-result-container'><table class='table-result'><thead style='background-color: white'><tr><th>transaction_id</th><th>timestamp</th><th>sender_account</th><th>receiver_account</th><th>amount</th><th>transaction_type</th><th>merchant_category</th><th>location</th><th>device_used</th><th>is_fraud</th><th>fraud_type</th><th>time_since_last_transaction</th><th>spending_deviation_score</th><th>velocity_score</th><th>geo_anomaly_score</th><th>payment_channel</th><th>ip_address</th><th>device_hash</th></tr></thead><tbody><tr><td>T100000</td><td>2023-08-22T09:22:43.516</td><td>ACC877572</td><td>ACC388389</td><td>343.78</td><td>withdrawal</td><td>utilities</td><td>Tokyo</td><td>mobile</td><td>False</td><td></td><td></td><td>-0.21</td><td>3</td><td>0.22</td><td>card</td><td>13.101.214.112</td><td>D8536477</td></tr><tr><td>T100001</td><td>2023-08-04T01:58:02.607</td><td>ACC895667</td><td>ACC944962</td><td>419.65</td><td>withdrawal</td><td>online</td><td>Toronto</td><td>atm</td><td>False</td><td></td><td></td><td>-0.14</td><td>7</td><td>0.96</td><td>ACH</td><td>172.52.47.194</td><td>D2622631</td></tr><tr><td>T100002</td><td>2023-05-12T11:39:33.743</td><td>ACC733052</td><td>ACC377370</td><td>2773.86</td><td>deposit</td><td>other</td><td>London</td><td>pos</td><td>False</td><td></td><td></td><td>-1.78</td><td>20</td><td>0.89</td><td>card</td><td>185.98.35.23</td><td>D4823498</td></tr><tr><td>T100003</td><td>2023-10-10T06:04:43.195</td><td>ACC996865</td><td>ACC344098</td><td>1666.22</td><td>deposit</td><td>online</td><td>Sydney</td><td>pos</td><td>False</td><td></td><td></td><td>-0.6</td><td>6</td><td>0.37</td><td>wire_transfer</td><td>107.136.36.87</td><td>D9961380</td></tr><tr><td>T100004</td><td>2023-09-24T08:09:02.700</td><td>ACC584714</td><td>ACC497887</td><td>24.43</td><td>transfer</td><td>utilities</td><td>Toronto</td><td>mobile</td><td>False</td><td></td><td></td><td>0.79</td><td>13</td><td>0.27</td><td>ACH</td><td>108.161.108.255</td><td>D7637601</td></tr><tr><td>T100005</td><td>2023-11-20T17:49:27.941</td><td>ACC581141</td><td>ACC249811</td><td>58.77</td><td>transfer</td><td>entertainment</td><td>Berlin</td><td>atm</td><td>False</td><td></td><td></td><td>-1.63</td><td>19</td><td>0.4</td><td>UPI</td><td>112.70.252.46</td><td>D1790481</td></tr><tr><td>T100006</td><td>2023-11-11T11:15:41.359</td><td>ACC757924</td><td>ACC267753</td><td>59.51</td><td>payment</td><td>travel</td><td>Dubai</td><td>pos</td><td>False</td><td></td><td></td><td>-2.62</td><td>1</td><td>0.68</td><td>UPI</td><td>58.136.174.57</td><td>D5924115</td></tr><tr><td>T100007</td><td>2023-06-09T06:32:36.945</td><td>ACC103402</td><td>ACC857168</td><td>29.79</td><td>transfer</td><td>entertainment</td><td>London</td><td>atm</td><td>False</td><td></td><td></td><td>-0.48</td><td>5</td><td>0.37</td><td>ACH</td><td>82.0.165.250</td><td>D1326765</td></tr><tr><td>T100008</td><td>2023-02-11T06:57:40.586</td><td>ACC972064</td><td>ACC945964</td><td>16</td><td>transfer</td><td>utilities</td><td>New York</td><td>web</td><td>False</td><td></td><td></td><td>0.99</td><td>3</td><td>0.98</td><td>card</td><td>64.65.243.84</td><td>D5446912</td></tr><tr><td>T100009</td><td>2023-07-13T09:25:20.560</td><td>ACC543692</td><td>ACC322086</td><td>203.05</td><td>withdrawal</td><td>grocery</td><td>Dubai</td><td>atm</td><td>False</td><td></td><td></td><td>0.59</td><td>17</td><td>0.45</td><td>UPI</td><td>126.115.32.173</td><td>D1352896</td></tr><tr><td>T100010</td><td>2023-08-04T00:35:03.745</td><td>ACC717024</td><td>ACC330914</td><td>1237.07</td><td>deposit</td><td>travel</td><td>New York</td><td>web</td><td>False</td><td></td><td></td><td>1.64</td><td>3</td><td>0.51</td><td>card</td><td>142.248.109.67</td><td>D8930103</td></tr><tr><td>T100011</td><td>2023-03-31T07:39:21.036</td><td>ACC946721</td><td>ACC526833</td><td>465.45</td><td>withdrawal</td><td>travel</td><td>London</td><td>pos</td><td>False</td><td></td><td></td><td>-1.11</td><td>14</td><td>0.41</td><td>wire_transfer</td><td>27.50.31.206</td><td>D6692553</td></tr><tr><td>T100012</td><td>2023-10-20T08:11:25.423</td><td>ACC360735</td><td>ACC300896</td><td>14.18</td><td>withdrawal</td><td>other</td><td>Tokyo</td><td>pos</td><td>False</td><td></td><td></td><td>-0.14</td><td>3</td><td>0.44</td><td>ACH</td><td>50.25.7.47</td><td>D4965789</td></tr><tr><td>T100013</td><td>2023-03-03T07:53:07.184</td><td>ACC604740</td><td>ACC324130</td><td>34.58</td><td>payment</td><td>retail</td><td>Tokyo</td><td>pos</td><td>False</td><td></td><td></td><td>0.75</td><td>13</td><td>0.27</td><td>card</td><td>232.146.216.249</td><td>D3597059</td></tr><tr><td>T100014</td><td>2023-03-11T13:30:19.142</td><td>ACC161324</td><td>ACC707314</td><td>1283.35</td><td>deposit</td><td>restaurant</td><td>New York</td><td>mobile</td><td>False</td><td></td><td></td><td>-1.96</td><td>6</td><td>0.06</td><td>UPI</td><td>41.95.35.34</td><td>D4946066</td></tr><tr><td>T100015</td><td>2023-05-29T03:04:25.786</td><td>ACC358175</td><td>ACC707040</td><td>1258.92</td><td>deposit</td><td>travel</td><td>Dubai</td><td>atm</td><td>False</td><td></td><td></td><td>-0.04</td><td>7</td><td>0.67</td><td>wire_transfer</td><td>160.122.135.202</td><td>D3195773</td></tr><tr><td>T100016</td><td>2023-09-03T13:00:22.871</td><td>ACC579434</td><td>ACC431535</td><td>1444.64</td><td>deposit</td><td>retail</td><td>Singapore</td><td>mobile</td><td>False</td><td></td><td></td><td>-1.15</td><td>5</td><td>0.93</td><td>card</td><td>35.125.189.145</td><td>D3646552</td></tr><tr><td>T100017</td><td>2023-06-10T15:29:48.694</td><td>ACC837715</td><td>ACC417212</td><td>1120.17</td><td>deposit</td><td>grocery</td><td>London</td><td>web</td><td>False</td><td></td><td></td><td>-0.28</td><td>4</td><td>0.89</td><td>wire_transfer</td><td>79.139.144.107</td><td>D6752576</td></tr><tr><td>T100018</td><td>2023-03-17T03:30:44.842</td><td>ACC994343</td><td>ACC376807</td><td>4.49</td><td>payment</td><td>grocery</td><td>New York</td><td>mobile</td><td>False</td><td></td><td></td><td>0.14</td><td>11</td><td>0.77</td><td>UPI</td><td>134.82.226.218</td><td>D1162230</td></tr><tr><td>T100019</td><td>2023-02-11T18:00:54.698</td><td>ACC256294</td><td>ACC672092</td><td>1433.12</td><td>deposit</td><td>restaurant</td><td>Tokyo</td><td>pos</td><td>False</td><td></td><td></td><td>-0.26</td><td>2</td><td>0.31</td><td>ACH</td><td>20.183.107.127</td><td>D2724590</td></tr><tr><td>T100020</td><td>2023-05-10T19:13:29.421</td><td>ACC526117</td><td>ACC750810</td><td>413.32</td><td>withdrawal</td><td>utilities</td><td>Tokyo</td><td>web</td><td>False</td><td></td><td></td><td>1.61</td><td>11</td><td>0.78</td><td>UPI</td><td>210.127.136.81</td><td>D2813543</td></tr><tr><td>T100021</td><td>2023-05-20T16:03:55.764</td><td>ACC593554</td><td>ACC333238</td><td>311.77</td><td>withdrawal</td><td>other</td><td>Toronto</td><td>atm</td><td>False</td><td></td><td></td><td>0.25</td><td>8</td><td>0.02</td><td>ACH</td><td>98.204.168.142</td><td>D2164686</td></tr></tbody></table></div>"
      ]
     },
     "metadata": {
      "application/vnd.databricks.v1+output": {
       "addedWidgets": {},
       "aggData": [],
       "aggError": "",
       "aggOverflow": false,
       "aggSchema": [],
       "aggSeriesLimitReached": false,
       "aggType": "",
       "arguments": {},
       "columnCustomDisplayInfos": {},
       "data": [
        [
         "T100000",
         "2023-08-22T09:22:43.516",
         "ACC877572",
         "ACC388389",
         "343.78",
         "withdrawal",
         "utilities",
         "Tokyo",
         "mobile",
         "False",
         "",
         "",
         "-0.21",
         "3",
         "0.22",
         "card",
         "13.101.214.112",
         "D8536477"
        ],
        [
         "T100001",
         "2023-08-04T01:58:02.607",
         "ACC895667",
         "ACC944962",
         "419.65",
         "withdrawal",
         "online",
         "Toronto",
         "atm",
         "False",
         "",
         "",
         "-0.14",
         "7",
         "0.96",
         "ACH",
         "172.52.47.194",
         "D2622631"
        ],
        [
         "T100002",
         "2023-05-12T11:39:33.743",
         "ACC733052",
         "ACC377370",
         "2773.86",
         "deposit",
         "other",
         "London",
         "pos",
         "False",
         "",
         "",
         "-1.78",
         "20",
         "0.89",
         "card",
         "185.98.35.23",
         "D4823498"
        ],
        [
         "T100003",
         "2023-10-10T06:04:43.195",
         "ACC996865",
         "ACC344098",
         "1666.22",
         "deposit",
         "online",
         "Sydney",
         "pos",
         "False",
         "",
         "",
         "-0.6",
         "6",
         "0.37",
         "wire_transfer",
         "107.136.36.87",
         "D9961380"
        ],
        [
         "T100004",
         "2023-09-24T08:09:02.700",
         "ACC584714",
         "ACC497887",
         "24.43",
         "transfer",
         "utilities",
         "Toronto",
         "mobile",
         "False",
         "",
         "",
         "0.79",
         "13",
         "0.27",
         "ACH",
         "108.161.108.255",
         "D7637601"
        ],
        [
         "T100005",
         "2023-11-20T17:49:27.941",
         "ACC581141",
         "ACC249811",
         "58.77",
         "transfer",
         "entertainment",
         "Berlin",
         "atm",
         "False",
         "",
         "",
         "-1.63",
         "19",
         "0.4",
         "UPI",
         "112.70.252.46",
         "D1790481"
        ],
        [
         "T100006",
         "2023-11-11T11:15:41.359",
         "ACC757924",
         "ACC267753",
         "59.51",
         "payment",
         "travel",
         "Dubai",
         "pos",
         "False",
         "",
         "",
         "-2.62",
         "1",
         "0.68",
         "UPI",
         "58.136.174.57",
         "D5924115"
        ],
        [
         "T100007",
         "2023-06-09T06:32:36.945",
         "ACC103402",
         "ACC857168",
         "29.79",
         "transfer",
         "entertainment",
         "London",
         "atm",
         "False",
         "",
         "",
         "-0.48",
         "5",
         "0.37",
         "ACH",
         "82.0.165.250",
         "D1326765"
        ],
        [
         "T100008",
         "2023-02-11T06:57:40.586",
         "ACC972064",
         "ACC945964",
         "16",
         "transfer",
         "utilities",
         "New York",
         "web",
         "False",
         "",
         "",
         "0.99",
         "3",
         "0.98",
         "card",
         "64.65.243.84",
         "D5446912"
        ],
        [
         "T100009",
         "2023-07-13T09:25:20.560",
         "ACC543692",
         "ACC322086",
         "203.05",
         "withdrawal",
         "grocery",
         "Dubai",
         "atm",
         "False",
         "",
         "",
         "0.59",
         "17",
         "0.45",
         "UPI",
         "126.115.32.173",
         "D1352896"
        ],
        [
         "T100010",
         "2023-08-04T00:35:03.745",
         "ACC717024",
         "ACC330914",
         "1237.07",
         "deposit",
         "travel",
         "New York",
         "web",
         "False",
         "",
         "",
         "1.64",
         "3",
         "0.51",
         "card",
         "142.248.109.67",
         "D8930103"
        ],
        [
         "T100011",
         "2023-03-31T07:39:21.036",
         "ACC946721",
         "ACC526833",
         "465.45",
         "withdrawal",
         "travel",
         "London",
         "pos",
         "False",
         "",
         "",
         "-1.11",
         "14",
         "0.41",
         "wire_transfer",
         "27.50.31.206",
         "D6692553"
        ],
        [
         "T100012",
         "2023-10-20T08:11:25.423",
         "ACC360735",
         "ACC300896",
         "14.18",
         "withdrawal",
         "other",
         "Tokyo",
         "pos",
         "False",
         "",
         "",
         "-0.14",
         "3",
         "0.44",
         "ACH",
         "50.25.7.47",
         "D4965789"
        ],
        [
         "T100013",
         "2023-03-03T07:53:07.184",
         "ACC604740",
         "ACC324130",
         "34.58",
         "payment",
         "retail",
         "Tokyo",
         "pos",
         "False",
         "",
         "",
         "0.75",
         "13",
         "0.27",
         "card",
         "232.146.216.249",
         "D3597059"
        ],
        [
         "T100014",
         "2023-03-11T13:30:19.142",
         "ACC161324",
         "ACC707314",
         "1283.35",
         "deposit",
         "restaurant",
         "New York",
         "mobile",
         "False",
         "",
         "",
         "-1.96",
         "6",
         "0.06",
         "UPI",
         "41.95.35.34",
         "D4946066"
        ],
        [
         "T100015",
         "2023-05-29T03:04:25.786",
         "ACC358175",
         "ACC707040",
         "1258.92",
         "deposit",
         "travel",
         "Dubai",
         "atm",
         "False",
         "",
         "",
         "-0.04",
         "7",
         "0.67",
         "wire_transfer",
         "160.122.135.202",
         "D3195773"
        ],
        [
         "T100016",
         "2023-09-03T13:00:22.871",
         "ACC579434",
         "ACC431535",
         "1444.64",
         "deposit",
         "retail",
         "Singapore",
         "mobile",
         "False",
         "",
         "",
         "-1.15",
         "5",
         "0.93",
         "card",
         "35.125.189.145",
         "D3646552"
        ],
        [
         "T100017",
         "2023-06-10T15:29:48.694",
         "ACC837715",
         "ACC417212",
         "1120.17",
         "deposit",
         "grocery",
         "London",
         "web",
         "False",
         "",
         "",
         "-0.28",
         "4",
         "0.89",
         "wire_transfer",
         "79.139.144.107",
         "D6752576"
        ],
        [
         "T100018",
         "2023-03-17T03:30:44.842",
         "ACC994343",
         "ACC376807",
         "4.49",
         "payment",
         "grocery",
         "New York",
         "mobile",
         "False",
         "",
         "",
         "0.14",
         "11",
         "0.77",
         "UPI",
         "134.82.226.218",
         "D1162230"
        ],
        [
         "T100019",
         "2023-02-11T18:00:54.698",
         "ACC256294",
         "ACC672092",
         "1433.12",
         "deposit",
         "restaurant",
         "Tokyo",
         "pos",
         "False",
         "",
         "",
         "-0.26",
         "2",
         "0.31",
         "ACH",
         "20.183.107.127",
         "D2724590"
        ],
        [
         "T100020",
         "2023-05-10T19:13:29.421",
         "ACC526117",
         "ACC750810",
         "413.32",
         "withdrawal",
         "utilities",
         "Tokyo",
         "web",
         "False",
         "",
         "",
         "1.61",
         "11",
         "0.78",
         "UPI",
         "210.127.136.81",
         "D2813543"
        ],
        [
         "T100021",
         "2023-05-20T16:03:55.764",
         "ACC593554",
         "ACC333238",
         "311.77",
         "withdrawal",
         "other",
         "Toronto",
         "atm",
         "False",
         "",
         "",
         "0.25",
         "8",
         "0.02",
         "ACH",
         "98.204.168.142",
         "D2164686"
        ]
       ],
       "datasetInfos": [],
       "dbfsResultPath": null,
       "isJsonSchema": true,
       "metadata": {},
       "overflow": false,
       "plotOptions": {
        "customPlotOptions": {},
        "displayType": "table",
        "pivotAggregation": null,
        "pivotColumns": null,
        "xColumns": null,
        "yColumns": null
       },
       "removedWidgets": [],
       "schema": [
        {
         "metadata": "{}",
         "name": "transaction_id",
         "type": "\"string\""
        },
        {
         "metadata": "{}",
         "name": "timestamp",
         "type": "\"string\""
        },
        {
         "metadata": "{}",
         "name": "sender_account",
         "type": "\"string\""
        },
        {
         "metadata": "{}",
         "name": "receiver_account",
         "type": "\"string\""
        },
        {
         "metadata": "{}",
         "name": "amount",
         "type": "\"string\""
        },
        {
         "metadata": "{}",
         "name": "transaction_type",
         "type": "\"string\""
        },
        {
         "metadata": "{}",
         "name": "merchant_category",
         "type": "\"string\""
        },
        {
         "metadata": "{}",
         "name": "location",
         "type": "\"string\""
        },
        {
         "metadata": "{}",
         "name": "device_used",
         "type": "\"string\""
        },
        {
         "metadata": "{}",
         "name": "is_fraud",
         "type": "\"string\""
        },
        {
         "metadata": "{}",
         "name": "fraud_type",
         "type": "\"string\""
        },
        {
         "metadata": "{}",
         "name": "time_since_last_transaction",
         "type": "\"string\""
        },
        {
         "metadata": "{}",
         "name": "spending_deviation_score",
         "type": "\"string\""
        },
        {
         "metadata": "{}",
         "name": "velocity_score",
         "type": "\"string\""
        },
        {
         "metadata": "{}",
         "name": "geo_anomaly_score",
         "type": "\"string\""
        },
        {
         "metadata": "{}",
         "name": "payment_channel",
         "type": "\"string\""
        },
        {
         "metadata": "{}",
         "name": "ip_address",
         "type": "\"string\""
        },
        {
         "metadata": "{}",
         "name": "device_hash",
         "type": "\"string\""
        }
       ],
       "type": "table"
      }
     },
     "output_type": "display_data"
    }
   ],
   "source": [
    "%sql\n",
    "SELECT * FROM parsed_data\n"
   ]
  }
 ],
 "metadata": {
  "application/vnd.databricks.v1+notebook": {
   "computePreferences": null,
   "dashboards": [],
   "environmentMetadata": {
    "base_environment": "",
    "environment_version": "1"
   },
   "inputWidgetPreferences": null,
   "language": "python",
   "notebookMetadata": {
    "mostRecentlyExecutedCommandWithImplicitDF": {
     "commandId": 2957699461097575,
     "dataframes": [
      "_sqldf"
     ]
    },
    "pythonIndentUnit": 4
   },
   "notebookName": "kafka",
   "widgets": {}
  }
 },
 "nbformat": 4,
 "nbformat_minor": 0
}