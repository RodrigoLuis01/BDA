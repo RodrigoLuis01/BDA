{
 "cells": [
  {
   "cell_type": "code",
   "execution_count": 0,
   "metadata": {
    "application/vnd.databricks.v1+cell": {
     "cellMetadata": {},
     "inputWidgets": {},
     "nuid": "8f7b05ba-a594-4186-a3f0-bb9ac7ab1d9e",
     "showTitle": false,
     "tableResultSettingsMap": {},
     "title": ""
    }
   },
   "outputs": [],
   "source": [
    "from pyspark.ml import PipelineModel\n",
    "from pyspark.ml.tuning import ParamGridBuilder, TrainValidationSplit\n",
    "from pyspark.ml.evaluation import MulticlassClassificationEvaluator\n",
    "from pyspark.ml.classification import GBTClassifier\n",
    "from pyspark.sql import functions as F\n",
    "\n",
    "# Load slicing stage (top-10 features)\n",
    "slicer_model = PipelineModel.load(\"/FileStore/models/slicer_top10\")\n",
    "\n",
    "# Load preprocessed datasets\n",
    "train_ready = spark.read.format(\"delta\").load(\"/FileStore/data/train_ready\")\n",
    "val_ready   = spark.read.format(\"delta\").load(\"/FileStore/data/val_ready\")\n",
    "\n",
    "# Apply slicer to keep only top-10 features\n",
    "train_topk = slicer_model.transform(train_ready)\n",
    "val_topk   = slicer_model.transform(val_ready)\n",
    "\n",
    "# Efficient class balancing using sampleBy\n",
    "fractions = {0: 0.6, 1: 1.0}  # 60% of majority, 100% of minority\n",
    "train_sample = train_topk.sampleBy(\"label\", fractions=fractions, seed=42)\n",
    "\n",
    "# Define Gradient-Boosted Tree\n",
    "gbt = GBTClassifier(\n",
    "    labelCol=\"label\",\n",
    "    featuresCol=\"features_topK\",\n",
    "    seed=42,\n",
    "    maxIter=20  # number of boosting rounds\n",
    ")\n",
    "\n",
    "# Small param grid (to control compute load)\n",
    "param_grid = ParamGridBuilder() \\\n",
    "    .addGrid(gbt.maxDepth, [3, 5]) \\\n",
    "    .addGrid(gbt.stepSize, [0.1, 0.2]) \\\n",
    "    .build()\n",
    "\n",
    "# Evaluator\n",
    "evaluator = MulticlassClassificationEvaluator(\n",
    "    labelCol=\"label\",\n",
    "    predictionCol=\"prediction\",\n",
    "    metricName=\"f1\"\n",
    ")\n",
    "\n",
    "# TrainValidationSplit\n",
    "tvs = TrainValidationSplit(\n",
    "    estimator=gbt,\n",
    "    estimatorParamMaps=param_grid,\n",
    "    evaluator=evaluator,\n",
    "    trainRatio=1.0,\n",
    "    parallelism=1  # Required for Databricks CE\n",
    ")\n",
    "\n",
    "# Train model with grid search\n",
    "tvs_model = tvs.fit(train_sample)\n",
    "\n",
    "# Evaluate on external validation set\n",
    "val_preds = tvs_model.transform(val_topk)\n",
    "f1_score = evaluator.evaluate(val_preds)\n",
    "\n",
    "print(f\"Best GBT model F1-score on validation set: {f1_score:.4f}\")\n",
    "\n",
    "# Save best model\n",
    "tvs_model.bestModel.write().overwrite().save(\"/FileStore/models/gbt_top10_model_grid\")"
   ]
  }
 ],
 "metadata": {
  "application/vnd.databricks.v1+notebook": {
   "computePreferences": null,
   "dashboards": [],
   "environmentMetadata": {
    "base_environment": "",
    "environment_version": "1"
   },
   "inputWidgetPreferences": null,
   "language": "python",
   "notebookMetadata": {
    "pythonIndentUnit": 4
   },
   "notebookName": "Notebook3_GBT",
   "widgets": {}
  }
 },
 "nbformat": 4,
 "nbformat_minor": 0
}